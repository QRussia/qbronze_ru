{
 "cells": [
  {
   "cell_type": "markdown",
   "metadata": {},
   "source": [
    "<table width=\"100%\"><tr style=\"background-color:white;\">\n",
    "    <td style=\"text-align:left;padding:0px;width:142px'\">\n",
    "        <a href=\"https://qworld.net\" target=\"_blank\">\n",
    "            <img src=\"qworld/images/QWorld.png\"></a></td>\n",
    "    <td width=\"*\">&nbsp;&nbsp;&nbsp;&nbsp;&nbsp;&nbsp;</td>\n",
    "    <!-- ############################################# -->\n",
    "    <td style=\"padding:0px;width:90px;\">\n",
    "        <img align=\"right\" src=\"qworld/images/follow_us.png\" height=\"40px\"></td>\n",
    "    <td style=\"padding:0px;width:40px;\">\n",
    "        <a href=\"https://twitter.com/QWorld19\" target=\"_blank\">\n",
    "        <img align=\"right\" src=\"qworld/images/Twitter.png\" width=\"40px\"></a> </td>\n",
    "    <td style=\"padding:0px;width:5px;\"></td>\n",
    "    <td style=\"padding:0px;width:40px;\">\n",
    "        <a href=\"https://www.facebook.com/qworld19/\" target=\"_blank\">\n",
    "        <img align=\"right\" src=\"qworld/images/Fb.png\"></a></td>\n",
    "    <td style=\"padding:0px;width:5px;\"></td>\n",
    "    <td style=\"padding:0px;width:40px;\">\n",
    "        <a href=\"https://www.linkedin.com/company/qworld19\" target=\"_blank\">\n",
    "        <img align=\"right\" src=\"qworld/images/LinkedIn.png\"></a></td>\n",
    "    <td style=\"padding:0px;width:5px;\"></td>\n",
    "    <td style=\"padding:0px;width:40px;\">\n",
    "        <a href=\"https://youtube.com/QWorld19?sub_confirmation=1\" target=\"_blank\">\n",
    "        <img align=\"right\" src=\"qworld/images/YT.png\"></a></td>\n",
    "    <!-- ############################################# -->\n",
    "    <td style=\"padding:0px;width:60px;\">\n",
    "        <img align=\"right\" src=\"qworld/images/join.png\" height=\"40px\"></td>\n",
    "    <td style=\"padding:0px;width:40px;\">\n",
    "        <a href=\"https://discord.qworld.net\"\n",
    "           target=\"_blank\">\n",
    "        <img align=\"right\" src=\"qworld/images/Discord.png\"></a></td>\n",
    "    <!-- ############################################# -->\n",
    "    <td style=\"padding:0px;width:72px;\">\n",
    "        <img align=\"right\" src=\"qworld/images/w3.png\" height=\"40px\"></td>\n",
    "    <td style=\"padding:0px;width:40px;\">\n",
    "        <a href=\"https://qworld.net\" target=\"_blank\">\n",
    "        <img align=\"right\" src=\"qworld/images/www.png\"></a></td>\n",
    "</tr></table>"
   ]
  },
  {
   "cell_type": "markdown",
   "metadata": {},
   "source": [
    "<h2 align=\"left\" style=\"color: #cd7f32;\"> До воркшопа </h2>\n",
    "\n",
    "1. Установите Qiskit и протестируйте его работоспособность.\n",
    "\n",
    "1. Пройдите \"Основы Python\", если вы не знакомы с Python.\n",
    "\n",
    "1. Пройдите \"МатОсновы\"."
   ]
  },
  {
   "cell_type": "markdown",
   "metadata": {},
   "source": [
    "### Установить и проверить\n",
    "\n",
    "<a href=\"quantum-with-qiskit/Q04_Qiskit_installation_and_test.ipynb\" target=\"_blank\">Установить и проверить Qiskit</a>\n",
    "\n",
    "### Основы Python\n",
    "\n",
    "[Краткий экскурс в Jupyter notebook](python/Python02_Into_Notebooks.ipynb) &nbsp;|&nbsp;\n",
    "[Переменные и типы данных](python/Python08_Basics_Variables.ipynb) &nbsp;|&nbsp;\n",
    "[Циклы](python/Python12_Basics_Loops.ipynb) &nbsp;|&nbsp;\n",
    "[Условия](python/Python16_Basics_Conditionals.ipynb) &nbsp;|&nbsp;\n",
    "[Списки](python/Python20_Basics_Lists.ipynb) &nbsp;|&nbsp;\n",
    "[Краткое введение](python/Python04_Quick_Reference.ipynb) &nbsp;|&nbsp;\n",
    "[Рисование](python/Python06_Drawing.ipynb)\n",
    "\n",
    "### МатОсновы\n",
    "\n",
    "[Вектора](math/Math20_Vectors.ipynb) &nbsp;|&nbsp;\n",
    "[Скалярное произведение векторов](math/Math24_Dot_Product.ipynb) &nbsp;|&nbsp;\n",
    "[Матрицы](math/Math28_Matrices.ipynb) &nbsp;|&nbsp;\n",
    "[Тензорное произведение векторов](math/Math32_Tensor_Product.ipynb) &nbsp;|&nbsp;\n",
    "[Задачи](math/Exercises_Basic_Math.ipynb)"
   ]
  }
 ],
 "metadata": {
  "kernelspec": {
   "display_name": "Python 3 (ipykernel)",
   "language": "python",
   "name": "python3"
  },
  "language_info": {
   "codemirror_mode": {
    "name": "ipython",
    "version": 3
   },
   "file_extension": ".py",
   "mimetype": "text/x-python",
   "name": "python",
   "nbconvert_exporter": "python",
   "pygments_lexer": "ipython3",
   "version": "3.11.6"
  }
 },
 "nbformat": 4,
 "nbformat_minor": 4
}
